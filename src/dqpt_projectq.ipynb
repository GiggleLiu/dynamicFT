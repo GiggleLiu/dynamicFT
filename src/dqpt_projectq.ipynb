{
 "cells": [
  {
   "cell_type": "code",
   "execution_count": 146,
   "metadata": {},
   "outputs": [],
   "source": [
    "from contexts import ProjectQContext\n",
    "from projectq.ops import CNOT, Rx, Rz, Tensor, Z, X, C\n",
    "from projectq.setups import default"
   ]
  },
  {
   "cell_type": "code",
   "execution_count": 167,
   "metadata": {},
   "outputs": [],
   "source": [
    "def apply_entangler(qureg, pos):\n",
    "    for i in pos:\n",
    "        C(X) | (qureg[i], qureg[(i+1)%len(qureg)])"
   ]
  },
  {
   "cell_type": "code",
   "execution_count": 163,
   "metadata": {},
   "outputs": [],
   "source": [
    "def apply_block(reg, theta, trafie):\n",
    "    nbit = len(reg)\n",
    "    apply_entangler(reg, range(0, nbit, 2))\n",
    "    Tensor(Rz(theta)) | reg[1:nbit:2]\n",
    "    apply_entangler(reg, list(range(0, nbit, 2)) + list(range(1, nbit, 2)))\n",
    "    \n",
    "    Tensor(Rz(theta)) | reg[0:nbit:2]\n",
    "    apply_entangler(reg, range(1, nbit, 2))\n",
    "    \n",
    "    Tensor(Rx(trafie)) | reg"
   ]
  },
  {
   "cell_type": "code",
   "execution_count": 164,
   "metadata": {},
   "outputs": [],
   "source": [
    "def dynamical_qft(nbit, g, tmax, nslice):\n",
    "    dt = tmax/nslice\n",
    "    trafie = dt*g\n",
    "    theta = -dt\n",
    "    \n",
    "    res = []\n",
    "    with ProjectQContext(nbit, 'simulate') as cc:\n",
    "        for i in range(nslice):\n",
    "            apply_block(cc.qureg, theta, trafie)\n",
    "            wf1 = cc.get_wf()\n",
    "            Z | cc.qureg[5]\n",
    "            wf2 = cc.get_wf()\n",
    "            Z | cc.qureg[5]\n",
    "            res.append(wf1.conj().dot(wf2).real)\n",
    "    return res"
   ]
  },
  {
   "cell_type": "code",
   "execution_count": 168,
   "metadata": {},
   "outputs": [],
   "source": [
    "nslice = 500\n",
    "tmax = 10\n",
    "res = dynamical_qft(10, 2.0, 10.0, 500);"
   ]
  },
  {
   "cell_type": "code",
   "execution_count": 169,
   "metadata": {},
   "outputs": [
    {
     "data": {
      "text/plain": [
       "(0, 10)"
      ]
     },
     "execution_count": 169,
     "metadata": {},
     "output_type": "execute_result"
    },
    {
     "data": {
      "image/png": "[encoded data removed]",
      "text/plain": [
       "<Figure size 432x288 with 1 Axes>"
      ]
     },
     "metadata": {},
     "output_type": "display_data"
    }
   ],
   "source": [
    "import matplotlib.pyplot as plt\n",
    "import numpy as np\n",
    "plt.plot(np.linspace(0, tmax, nslice), np.abs(res))\n",
    "plt.xlim(0,10)\n",
    "#plt.ylim(0,1)"
   ]
  },
  {
   "cell_type": "code",
   "execution_count": 174,
   "metadata": {},
   "outputs": [
    {
     "name": "stdout",
     "output_type": "stream",
     "text": [
      "44.9 s ± 483 ms per loop (mean ± std. dev. of 7 runs, 1 loop each)\n"
     ]
    }
   ],
   "source": [
    "%timeit dynamical_qft(18, 2.0, 10.0, 500)"
   ]
  },
  {
   "cell_type": "code",
   "execution_count": 177,
   "metadata": {},
   "outputs": [],
   "source": [
    "from profilehooks import profile\n",
    "dynamical_qft(18, 2.0, 10.0, 500);"
   ]
  },
  {
   "cell_type": "code",
   "execution_count": null,
   "metadata": {},
   "outputs": [],
   "source": []
  }
 ],
 "metadata": {
  "kernelspec": {
   "display_name": "Python 3",
   "language": "python",
   "name": "python3"
  },
  "language_info": {
   "codemirror_mode": {
    "name": "ipython",
    "version": 3
   },
   "file_extension": ".py",
   "mimetype": "text/x-python",
   "name": "python",
   "nbconvert_exporter": "python",
   "pygments_lexer": "ipython3",
   "version": "3.6.4"
  }
 },
 "nbformat": 4,
 "nbformat_minor": 2
}
