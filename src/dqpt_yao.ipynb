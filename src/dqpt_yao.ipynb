{
 "cells": [
  {
   "cell_type": "code",
   "execution_count": 58,
   "metadata": {},
   "outputs": [],
   "source": [
    "using Yao\n",
    "using Yao.Blocks\n",
    "\n",
    "using BenchmarkTools"
   ]
  },
  {
   "cell_type": "code",
   "execution_count": 2,
   "metadata": {},
   "outputs": [
    {
     "data": {
      "text/plain": [
       "entangler (generic function with 1 method)"
      ]
     },
     "execution_count": 2,
     "metadata": {},
     "output_type": "execute_result"
    }
   ],
   "source": [
    "entangler(nbit::Int, offset::Int) = chain(nbit, control(nbit, i+offset, mod(i+offset, nbit)+1=>X) for i=1:2:nbit)"
   ]
  },
  {
   "cell_type": "code",
   "execution_count": 126,
   "metadata": {},
   "outputs": [
    {
     "data": {
      "text/plain": [
       "build_block (generic function with 2 methods)"
      ]
     },
     "execution_count": 126,
     "metadata": {},
     "output_type": "execute_result"
    }
   ],
   "source": [
    "function build_block(nbit::Int, theta::Real, trafie::Real)\n",
    "    # entanglers\n",
    "    entangler_A = entangler(nbit, 0)# |> cache\n",
    "    entangler_B = entangler(nbit, 1)# |> cache\n",
    "    entangler_AB = chain(entangler_A, entangler_B)# |> cache\n",
    "    \n",
    "    # rotations\n",
    "    rz = Rz(theta)\n",
    "    rx = Rx(trafie)\n",
    "    rz_A = repeat(nbit, rz, 1:2:nbit)\n",
    "    rz_B = repeat(nbit, rz, 2:2:nbit)\n",
    "    rx_AB = repeat(nbit, rx, 1:nbit)\n",
    "    \n",
    "    chain(nbit, [entangler_A, rz_B, entangler_AB, rz_A, entangler_B, rx_AB])\n",
    "    #chain(nbit, [entangler_A, entangler_AB, entangler_B])\n",
    "    #chain(nbit, [rz_B,entangler_AB, rz_A, rx_AB])\n",
    "end"
   ]
  },
  {
   "cell_type": "code",
   "execution_count": 127,
   "metadata": {},
   "outputs": [
    {
     "data": {
      "text/plain": [
       "dynamical_qft"
      ]
     },
     "execution_count": 127,
     "metadata": {},
     "output_type": "execute_result"
    }
   ],
   "source": [
    "\"\"\"\n",
    "Run dymamical quantum phase transition program.\n",
    "\n",
    "    * g: the factor before σx term.\n",
    "    * tmax: maximum time.\n",
    "    * nslice: number of slices that Trotter decoposition.\n",
    "\"\"\"\n",
    "function dynamical_qft(nbit::Int, g::Real, tmax::Real, nslice::Int)\n",
    "    dt = tmax/nslice\n",
    "    trafie = dt*g\n",
    "    theta = -dt\n",
    "    unit = build_block(nbit, theta, trafie)\n",
    "    \n",
    "    reg = zero_state(nbit)\n",
    "    res = Float64[]\n",
    "    for i in 1:nslice\n",
    "        apply!(reg, unit)\n",
    "        push!(res, expect(put(nbit, nbit÷2=>Z), reg))\n",
    "    end\n",
    "    res\n",
    "end"
   ]
  },
  {
   "cell_type": "code",
   "execution_count": 128,
   "metadata": {},
   "outputs": [],
   "source": [
    "nslice = 500\n",
    "tmax = 10\n",
    "res = dynamical_qft(10, 2.0, 10, 500);"
   ]
  },
  {
   "cell_type": "code",
   "execution_count": 129,
   "metadata": {},
   "outputs": [
    {
     "data": {
      "image/png": "[encoded data removed]",
      "text/plain": [
       "Figure(PyObject <Figure size 640x480 with 1 Axes>)"
      ]
     },
     "metadata": {},
     "output_type": "display_data"
    },
    {
     "data": {
      "text/plain": [
       "(0, 10)"
      ]
     },
     "execution_count": 129,
     "metadata": {},
     "output_type": "execute_result"
    }
   ],
   "source": [
    "using PyPlot\n",
    "plot(LinRange(0, tmax, nslice), res .|> abs)\n",
    "xlim(0,10)\n",
    "#ylim(0,1)"
   ]
  },
  {
   "cell_type": "code",
   "execution_count": 98,
   "metadata": {},
   "outputs": [
    {
     "data": {
      "text/plain": [
       "BenchmarkTools.Trial: \n",
       "  memory estimate:  5.40 MiB\n",
       "  allocs estimate:  83965\n",
       "  --------------\n",
       "  minimum time:     27.505 ms (0.00% GC)\n",
       "  median time:      27.721 ms (0.00% GC)\n",
       "  mean time:        29.016 ms (3.36% GC)\n",
       "  maximum time:     39.587 ms (12.20% GC)\n",
       "  --------------\n",
       "  samples:          173\n",
       "  evals/sample:     1"
      ]
     },
     "execution_count": 98,
     "metadata": {},
     "output_type": "execute_result"
    }
   ],
   "source": [
    "@benchmark dynamical_qft(10, 2.0, 10, 500)"
   ]
  },
  {
   "cell_type": "code",
   "execution_count": 84,
   "metadata": {},
   "outputs": [
    {
     "data": {
      "text/plain": [
       "BenchmarkTools.Trial: \n",
       "  memory estimate:  8.03 GiB\n",
       "  allocs estimate:  104843\n",
       "  --------------\n",
       "  minimum time:     12.538 s (3.26% GC)\n",
       "  median time:      12.538 s (3.26% GC)\n",
       "  mean time:        12.538 s (3.26% GC)\n",
       "  maximum time:     12.538 s (3.26% GC)\n",
       "  --------------\n",
       "  samples:          1\n",
       "  evals/sample:     1"
      ]
     },
     "execution_count": 84,
     "metadata": {},
     "output_type": "execute_result"
    }
   ],
   "source": [
    "@benchmark dynamical_qft(18, 2.0, 10, 500)"
   ]
  },
  {
   "cell_type": "code",
   "execution_count": 112,
   "metadata": {},
   "outputs": [
    {
     "data": {
      "text/plain": [
       "X gate"
      ]
     },
     "execution_count": 112,
     "metadata": {},
     "output_type": "execute_result"
    }
   ],
   "source": [
    "XGate{Float64}()"
   ]
  },
  {
   "cell_type": "code",
   "execution_count": null,
   "metadata": {},
   "outputs": [],
   "source": []
  }
 ],
 "metadata": {
  "kernelspec": {
   "display_name": "Julia 1.0.0",
   "language": "julia",
   "name": "julia-1.0"
  },
  "language_info": {
   "file_extension": ".jl",
   "mimetype": "application/julia",
   "name": "julia",
   "version": "1.0.0"
  }
 },
 "nbformat": 4,
 "nbformat_minor": 2
}
